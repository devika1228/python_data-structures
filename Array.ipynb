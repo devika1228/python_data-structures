{
 "cells": [
  {
   "cell_type": "code",
   "execution_count": 2,
   "id": "4228f518",
   "metadata": {},
   "outputs": [
    {
     "name": "stdout",
     "output_type": "stream",
     "text": [
      "{'length': 2, 'data': {0: 1, 1: 2}}\n"
     ]
    }
   ],
   "source": [
    "class myarray:\n",
    "    def __init__(self):\n",
    "        self.length=0\n",
    "        self.data={}\n",
    "        \n",
    "    def __str__(self):\n",
    "        return str(self.__dict__)\n",
    "    \n",
    "    def get(self,index):\n",
    "        return self.data[index]\n",
    "    \n",
    "    def push(self,item):\n",
    "        self.data[self.length]=item\n",
    "        self.length+=1\n",
    "        return self.data\n",
    "    \n",
    "    def pop(self):\n",
    "        lastitem=self.data[self.length-1]\n",
    "        del self.data[self.length-1]\n",
    "        self.length-=1\n",
    "        return lastitem\n",
    "    \n",
    "    def delete(self,index):\n",
    "        deleteitem=self.data[index]\n",
    "        for i in range(index,self.length-1):\n",
    "            self.data[i]=self.data[i+1]\n",
    "            \n",
    "        del self.data[self.length-1]\n",
    "        self.length-=1\n",
    "        return deleteitem\n",
    "    \n",
    "    \n",
    "    \n",
    "    \n",
    "#create object\n",
    "arr=myarray()\n",
    "arr.push(1) #0\n",
    "arr.push(2) #1\n",
    "arr.push(3) #2 #delete\n",
    "arr.push(4) #3 #pop\n",
    "arr.pop()\n",
    "arr.get(1) #index 2\n",
    "arr.delete(2) #value=3 index2\n",
    "print(arr) #1,2"
   ]
  },
  {
   "cell_type": "code",
   "execution_count": null,
   "id": "4ce5ada9",
   "metadata": {},
   "outputs": [],
   "source": []
  }
 ],
 "metadata": {
  "kernelspec": {
   "display_name": "Python 3 (ipykernel)",
   "language": "python",
   "name": "python3"
  },
  "language_info": {
   "codemirror_mode": {
    "name": "ipython",
    "version": 3
   },
   "file_extension": ".py",
   "mimetype": "text/x-python",
   "name": "python",
   "nbconvert_exporter": "python",
   "pygments_lexer": "ipython3",
   "version": "3.10.0"
  }
 },
 "nbformat": 4,
 "nbformat_minor": 5
}
